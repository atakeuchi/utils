{
  "nbformat": 4,
  "nbformat_minor": 0,
  "metadata": {
    "kernelspec": {
      "display_name": "Python 3",
      "language": "python",
      "name": "python3"
    },
    "language_info": {
      "codemirror_mode": {
        "name": "ipython",
        "version": 3
      },
      "file_extension": ".py",
      "mimetype": "text/x-python",
      "name": "python",
      "nbconvert_exporter": "python",
      "pygments_lexer": "ipython3",
      "version": "3.7.7"
    },
    "colab": {
      "name": "Use-Neptune-API-to-log-your-first-experiment.ipynb",
      "provenance": [],
      "include_colab_link": true
    }
  },
  "cells": [
    {
      "cell_type": "markdown",
      "metadata": {
        "id": "view-in-github",
        "colab_type": "text"
      },
      "source": [
        "<a href=\"https://colab.research.google.com/github/atakeuchi/utils/blob/main/Use_Neptune_API_to_log_your_first_experiment.ipynb\" target=\"_parent\"><img src=\"https://colab.research.google.com/assets/colab-badge.svg\" alt=\"Open In Colab\"/></a>"
      ]
    },
    {
      "cell_type": "markdown",
      "metadata": {
        "tags": [
          "header"
        ],
        "id": "mho-qmhRUKGW"
      },
      "source": [
        "# Use Neptune API to Iog your first experiment"
      ]
    },
    {
      "cell_type": "markdown",
      "metadata": {
        "tags": [
          "header",
          "installation"
        ],
        "id": "kvv9yQ4zUKGk"
      },
      "source": [
        "## Before you start"
      ]
    },
    {
      "cell_type": "code",
      "metadata": {
        "tags": [
          "installation"
        ],
        "id": "tWTm0AfZUKGm"
      },
      "source": [
        "#install packages\r\n",
        "!pip install --quiet lightgbm neptune-client neptune-contrib scikit-plot matplotlib==3.2.0 plotly==4.12.0\r\n"
      ],
      "execution_count": null,
      "outputs": []
    },
    {
      "cell_type": "markdown",
      "metadata": {
        "tags": [
          "header"
        ],
        "id": "bTTxUydnUKGo"
      },
      "source": [
        "## Step 1 - Initialize Neptune"
      ]
    },
    {
      "cell_type": "code",
      "metadata": {
        "colab": {
          "base_uri": "https://localhost:8080/"
        },
        "id": "hd6BlM_aVY98",
        "outputId": "6e302e3f-7283-4b37-d5e0-11a4eb2b7e93"
      },
      "source": [
        "from google.colab import drive\n",
        "drive.mount('/content/drive')"
      ],
      "execution_count": null,
      "outputs": [
        {
          "output_type": "stream",
          "text": [
            "Mounted at /content/drive\n"
          ],
          "name": "stdout"
        }
      ]
    },
    {
      "cell_type": "code",
      "metadata": {
        "tags": [
          "code"
        ],
        "id": "7zbo-PlbUKGo"
      },
      "source": [
        "# connect to the account\n",
        "import neptune\n",
        "with open('/content/drive/MyDrive/neptune_tk.txt', 'r') as file:\n",
        "    api_token = file.read().replace('\\n', '')\n",
        "\n",
        "neptune.init(project_qualified_name='atakeuchi/sandbox', # change this to your `workspace_name/project_name`\n",
        "             api_token=api_token\n",
        "            )"
      ],
      "execution_count": null,
      "outputs": []
    },
    {
      "cell_type": "code",
      "metadata": {
        "tags": [
          "code"
        ],
        "id": "fJBWoqvWUKGs"
      },
      "source": [
        "from neptunecontrib.monitoring.lightgbm import neptune_monitor\n",
        "\n",
        "params = {'boosting_type': 'gbdt',\n",
        "      'objective': 'multiclass',\n",
        "      'num_class': 3,\n",
        "      'num_leaves': 31,\n",
        "      'learning_rate': 0.05,\n",
        "      'feature_fraction': 0.9\n",
        "      }\n",
        "# parameter log\n",
        "neptune.create_experiment(name='LightGBM-training', params=params)\n",
        "\n",
        "\n",
        "gbm = lgb.train(params,\n",
        "        lgb_train,\n",
        "        num_boost_round = 500,\n",
        "        valid_sets = [lgb_train, lgb_eval],\n",
        "        valid_names = ['train','valid'],\n",
        "        callbacks = [neptune_monitor()], # Just add this callback\n",
        "       )\n",
        "\n",
        "# model artifacts\n",
        "gbm.save_model('lightgbm.pkl')\n",
        "\n",
        "# Log model\n",
        "neptune.log_artifact('lightgbm.pkl')"
      ],
      "execution_count": null,
      "outputs": []
    },
    {
      "cell_type": "code",
      "metadata": {
        "id": "OOaaO-THZTJ1"
      },
      "source": [
        "import matplotlib.pyplot as plt\r\n",
        "from scikitplot.metrics import plot_roc\r\n",
        "from neptunecontrib.api import log_chart\r\n",
        "\r\n",
        "y_test_pred = model.predict(x_test)\r\n",
        "fig, ax = plt.subplots()\r\n",
        "plot_roc(y_test, y_test_pred, ax=ax)\r\n",
        "\r\n",
        "# save charts\r\n",
        "log_chart(name='ROC curve', chart=fig)"
      ],
      "execution_count": null,
      "outputs": []
    },
    {
      "cell_type": "code",
      "metadata": {
        "tags": [
          "neptune_stop"
        ],
        "id": "z4J7iXVqUKGs"
      },
      "source": [
        "neptune.stop()"
      ],
      "execution_count": null,
      "outputs": []
    },
    {
      "cell_type": "code",
      "metadata": {
        "id": "an9KzI-cUKGt"
      },
      "source": [
        ""
      ],
      "execution_count": null,
      "outputs": []
    }
  ]
}